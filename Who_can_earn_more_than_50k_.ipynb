{
  "nbformat": 4,
  "nbformat_minor": 0,
  "metadata": {
    "kernelspec": {
      "display_name": "Python 3",
      "language": "python",
      "name": "python3"
    },
    "language_info": {
      "codemirror_mode": {
        "name": "ipython",
        "version": 3
      },
      "file_extension": ".py",
      "mimetype": "text/x-python",
      "name": "python",
      "nbconvert_exporter": "python",
      "pygments_lexer": "ipython3",
      "version": "3.6.3"
    },
    "colab": {
      "name": "Who can earn more than 50k?.ipynb",
      "provenance": [],
      "collapsed_sections": [],
      "toc_visible": true
    }
  },
  "cells": [
    {
      "cell_type": "markdown",
      "metadata": {
        "id": "3VlVdC3_E5-Z"
      },
      "source": [
        "<a name=\"1\"></a>\n",
        "# SVC\n"
      ]
    },
    {
      "cell_type": "markdown",
      "metadata": {
        "id": "dHq7uHBSFHP1"
      },
      "source": [
        "The next dataset was selected - https://www.kaggle.com/uciml/adult-census-income/\n",
        "\n",
        "The prediction task is to determine whether a person makes over $50K a year."
      ]
    },
    {
      "cell_type": "markdown",
      "metadata": {
        "id": "4LhBwru2-hEq"
      },
      "source": [
        "### Loading and exploring data"
      ]
    },
    {
      "cell_type": "code",
      "metadata": {
        "id": "xz6raogZE5-a",
        "outputId": "7d330ba6-8387-49d3-e594-fc4e2e91e4c3",
        "colab": {
          "base_uri": "https://localhost:8080/",
          "height": 212
        }
      },
      "source": [
        "# Load data\n",
        "df = pd.read_csv('/Who can earn more than 50K per year.csv')\n",
        "\n",
        "print(\"Shape of the train dataframe =\", df.shape)\n",
        "\n",
        "df.head()"
      ],
      "execution_count": null,
      "outputs": [
        {
          "output_type": "stream",
          "text": [
            "Shape of the train dataframe = (32561, 15)\n"
          ],
          "name": "stdout"
        },
        {
          "output_type": "execute_result",
          "data": {
            "text/html": [
              "<div>\n",
              "<style scoped>\n",
              "    .dataframe tbody tr th:only-of-type {\n",
              "        vertical-align: middle;\n",
              "    }\n",
              "\n",
              "    .dataframe tbody tr th {\n",
              "        vertical-align: top;\n",
              "    }\n",
              "\n",
              "    .dataframe thead th {\n",
              "        text-align: right;\n",
              "    }\n",
              "</style>\n",
              "<table border=\"1\" class=\"dataframe\">\n",
              "  <thead>\n",
              "    <tr style=\"text-align: right;\">\n",
              "      <th></th>\n",
              "      <th>age</th>\n",
              "      <th>workclass</th>\n",
              "      <th>fnlwgt</th>\n",
              "      <th>education</th>\n",
              "      <th>education.num</th>\n",
              "      <th>marital.status</th>\n",
              "      <th>occupation</th>\n",
              "      <th>relationship</th>\n",
              "      <th>race</th>\n",
              "      <th>sex</th>\n",
              "      <th>capital.gain</th>\n",
              "      <th>capital.loss</th>\n",
              "      <th>hours.per.week</th>\n",
              "      <th>native.country</th>\n",
              "      <th>income</th>\n",
              "    </tr>\n",
              "  </thead>\n",
              "  <tbody>\n",
              "    <tr>\n",
              "      <th>0</th>\n",
              "      <td>90</td>\n",
              "      <td>?</td>\n",
              "      <td>77053</td>\n",
              "      <td>HS-grad</td>\n",
              "      <td>9</td>\n",
              "      <td>Widowed</td>\n",
              "      <td>?</td>\n",
              "      <td>Not-in-family</td>\n",
              "      <td>White</td>\n",
              "      <td>Female</td>\n",
              "      <td>0</td>\n",
              "      <td>4356</td>\n",
              "      <td>40</td>\n",
              "      <td>United-States</td>\n",
              "      <td>&lt;=50K</td>\n",
              "    </tr>\n",
              "    <tr>\n",
              "      <th>1</th>\n",
              "      <td>82</td>\n",
              "      <td>Private</td>\n",
              "      <td>132870</td>\n",
              "      <td>HS-grad</td>\n",
              "      <td>9</td>\n",
              "      <td>Widowed</td>\n",
              "      <td>Exec-managerial</td>\n",
              "      <td>Not-in-family</td>\n",
              "      <td>White</td>\n",
              "      <td>Female</td>\n",
              "      <td>0</td>\n",
              "      <td>4356</td>\n",
              "      <td>18</td>\n",
              "      <td>United-States</td>\n",
              "      <td>&lt;=50K</td>\n",
              "    </tr>\n",
              "    <tr>\n",
              "      <th>2</th>\n",
              "      <td>66</td>\n",
              "      <td>?</td>\n",
              "      <td>186061</td>\n",
              "      <td>Some-college</td>\n",
              "      <td>10</td>\n",
              "      <td>Widowed</td>\n",
              "      <td>?</td>\n",
              "      <td>Unmarried</td>\n",
              "      <td>Black</td>\n",
              "      <td>Female</td>\n",
              "      <td>0</td>\n",
              "      <td>4356</td>\n",
              "      <td>40</td>\n",
              "      <td>United-States</td>\n",
              "      <td>&lt;=50K</td>\n",
              "    </tr>\n",
              "    <tr>\n",
              "      <th>3</th>\n",
              "      <td>54</td>\n",
              "      <td>Private</td>\n",
              "      <td>140359</td>\n",
              "      <td>7th-8th</td>\n",
              "      <td>4</td>\n",
              "      <td>Divorced</td>\n",
              "      <td>Machine-op-inspct</td>\n",
              "      <td>Unmarried</td>\n",
              "      <td>White</td>\n",
              "      <td>Female</td>\n",
              "      <td>0</td>\n",
              "      <td>3900</td>\n",
              "      <td>40</td>\n",
              "      <td>United-States</td>\n",
              "      <td>&lt;=50K</td>\n",
              "    </tr>\n",
              "    <tr>\n",
              "      <th>4</th>\n",
              "      <td>41</td>\n",
              "      <td>Private</td>\n",
              "      <td>264663</td>\n",
              "      <td>Some-college</td>\n",
              "      <td>10</td>\n",
              "      <td>Separated</td>\n",
              "      <td>Prof-specialty</td>\n",
              "      <td>Own-child</td>\n",
              "      <td>White</td>\n",
              "      <td>Female</td>\n",
              "      <td>0</td>\n",
              "      <td>3900</td>\n",
              "      <td>40</td>\n",
              "      <td>United-States</td>\n",
              "      <td>&lt;=50K</td>\n",
              "    </tr>\n",
              "  </tbody>\n",
              "</table>\n",
              "</div>"
            ],
            "text/plain": [
              "   age workclass  fnlwgt  ... hours.per.week  native.country income\n",
              "0   90         ?   77053  ...             40   United-States  <=50K\n",
              "1   82   Private  132870  ...             18   United-States  <=50K\n",
              "2   66         ?  186061  ...             40   United-States  <=50K\n",
              "3   54   Private  140359  ...             40   United-States  <=50K\n",
              "4   41   Private  264663  ...             40   United-States  <=50K\n",
              "\n",
              "[5 rows x 15 columns]"
            ]
          },
          "metadata": {
            "tags": []
          },
          "execution_count": 80
        }
      ]
    },
    {
      "cell_type": "code",
      "metadata": {
        "id": "MHRibY6zX5Y7",
        "outputId": "6e6c487a-f0dd-43a1-eecf-f8f312b72e95",
        "colab": {
          "base_uri": "https://localhost:8080/",
          "height": 498
        }
      },
      "source": [
        "df = df.replace('?', np.NaN) # replace '?' symbo\n",
        "\n",
        "# Check missing values in data\n",
        "print(f\"Missing values in the training set:\\n{df.isnull().sum()}\\n\")\n",
        "\n",
        "df = df.dropna()\n",
        "df.head()"
      ],
      "execution_count": null,
      "outputs": [
        {
          "output_type": "stream",
          "text": [
            "Missing values in the training set:\n",
            "age                  0\n",
            "workclass         1836\n",
            "fnlwgt               0\n",
            "education            0\n",
            "education.num        0\n",
            "marital.status       0\n",
            "occupation        1843\n",
            "relationship         0\n",
            "race                 0\n",
            "sex                  0\n",
            "capital.gain         0\n",
            "capital.loss         0\n",
            "hours.per.week       0\n",
            "native.country     583\n",
            "income               0\n",
            "dtype: int64\n",
            "\n"
          ],
          "name": "stdout"
        },
        {
          "output_type": "execute_result",
          "data": {
            "text/html": [
              "<div>\n",
              "<style scoped>\n",
              "    .dataframe tbody tr th:only-of-type {\n",
              "        vertical-align: middle;\n",
              "    }\n",
              "\n",
              "    .dataframe tbody tr th {\n",
              "        vertical-align: top;\n",
              "    }\n",
              "\n",
              "    .dataframe thead th {\n",
              "        text-align: right;\n",
              "    }\n",
              "</style>\n",
              "<table border=\"1\" class=\"dataframe\">\n",
              "  <thead>\n",
              "    <tr style=\"text-align: right;\">\n",
              "      <th></th>\n",
              "      <th>age</th>\n",
              "      <th>workclass</th>\n",
              "      <th>fnlwgt</th>\n",
              "      <th>education</th>\n",
              "      <th>education.num</th>\n",
              "      <th>marital.status</th>\n",
              "      <th>occupation</th>\n",
              "      <th>relationship</th>\n",
              "      <th>race</th>\n",
              "      <th>sex</th>\n",
              "      <th>capital.gain</th>\n",
              "      <th>capital.loss</th>\n",
              "      <th>hours.per.week</th>\n",
              "      <th>native.country</th>\n",
              "      <th>income</th>\n",
              "    </tr>\n",
              "  </thead>\n",
              "  <tbody>\n",
              "    <tr>\n",
              "      <th>1</th>\n",
              "      <td>82</td>\n",
              "      <td>Private</td>\n",
              "      <td>132870</td>\n",
              "      <td>HS-grad</td>\n",
              "      <td>9</td>\n",
              "      <td>Widowed</td>\n",
              "      <td>Exec-managerial</td>\n",
              "      <td>Not-in-family</td>\n",
              "      <td>White</td>\n",
              "      <td>Female</td>\n",
              "      <td>0</td>\n",
              "      <td>4356</td>\n",
              "      <td>18</td>\n",
              "      <td>United-States</td>\n",
              "      <td>&lt;=50K</td>\n",
              "    </tr>\n",
              "    <tr>\n",
              "      <th>3</th>\n",
              "      <td>54</td>\n",
              "      <td>Private</td>\n",
              "      <td>140359</td>\n",
              "      <td>7th-8th</td>\n",
              "      <td>4</td>\n",
              "      <td>Divorced</td>\n",
              "      <td>Machine-op-inspct</td>\n",
              "      <td>Unmarried</td>\n",
              "      <td>White</td>\n",
              "      <td>Female</td>\n",
              "      <td>0</td>\n",
              "      <td>3900</td>\n",
              "      <td>40</td>\n",
              "      <td>United-States</td>\n",
              "      <td>&lt;=50K</td>\n",
              "    </tr>\n",
              "    <tr>\n",
              "      <th>4</th>\n",
              "      <td>41</td>\n",
              "      <td>Private</td>\n",
              "      <td>264663</td>\n",
              "      <td>Some-college</td>\n",
              "      <td>10</td>\n",
              "      <td>Separated</td>\n",
              "      <td>Prof-specialty</td>\n",
              "      <td>Own-child</td>\n",
              "      <td>White</td>\n",
              "      <td>Female</td>\n",
              "      <td>0</td>\n",
              "      <td>3900</td>\n",
              "      <td>40</td>\n",
              "      <td>United-States</td>\n",
              "      <td>&lt;=50K</td>\n",
              "    </tr>\n",
              "    <tr>\n",
              "      <th>5</th>\n",
              "      <td>34</td>\n",
              "      <td>Private</td>\n",
              "      <td>216864</td>\n",
              "      <td>HS-grad</td>\n",
              "      <td>9</td>\n",
              "      <td>Divorced</td>\n",
              "      <td>Other-service</td>\n",
              "      <td>Unmarried</td>\n",
              "      <td>White</td>\n",
              "      <td>Female</td>\n",
              "      <td>0</td>\n",
              "      <td>3770</td>\n",
              "      <td>45</td>\n",
              "      <td>United-States</td>\n",
              "      <td>&lt;=50K</td>\n",
              "    </tr>\n",
              "    <tr>\n",
              "      <th>6</th>\n",
              "      <td>38</td>\n",
              "      <td>Private</td>\n",
              "      <td>150601</td>\n",
              "      <td>10th</td>\n",
              "      <td>6</td>\n",
              "      <td>Separated</td>\n",
              "      <td>Adm-clerical</td>\n",
              "      <td>Unmarried</td>\n",
              "      <td>White</td>\n",
              "      <td>Male</td>\n",
              "      <td>0</td>\n",
              "      <td>3770</td>\n",
              "      <td>40</td>\n",
              "      <td>United-States</td>\n",
              "      <td>&lt;=50K</td>\n",
              "    </tr>\n",
              "  </tbody>\n",
              "</table>\n",
              "</div>"
            ],
            "text/plain": [
              "   age workclass  fnlwgt  ... hours.per.week  native.country income\n",
              "1   82   Private  132870  ...             18   United-States  <=50K\n",
              "3   54   Private  140359  ...             40   United-States  <=50K\n",
              "4   41   Private  264663  ...             40   United-States  <=50K\n",
              "5   34   Private  216864  ...             45   United-States  <=50K\n",
              "6   38   Private  150601  ...             40   United-States  <=50K\n",
              "\n",
              "[5 rows x 15 columns]"
            ]
          },
          "metadata": {
            "tags": []
          },
          "execution_count": 81
        }
      ]
    },
    {
      "cell_type": "code",
      "metadata": {
        "id": "QQxNFXwbc2AK"
      },
      "source": [
        "df['income'] = df['income'].map({'<=50K':0, '>50K':1})\n",
        "\n",
        "X = df.drop(['income'], axis=1)\n",
        "y = df['income']"
      ],
      "execution_count": null,
      "outputs": []
    },
    {
      "cell_type": "code",
      "metadata": {
        "id": "OcNopzT1X5U5",
        "outputId": "4ac1e9ec-58f2-4326-ce25-3844e93ba287",
        "colab": {
          "base_uri": "https://localhost:8080/",
          "height": 195
        }
      },
      "source": [
        "# Feature scaling\n",
        "from sklearn import preprocessing\n",
        "from sklearn.preprocessing import StandardScaler\n",
        "\n",
        "categorical = ['workclass', 'education', 'marital.status', 'occupation', 'relationship', 'race', 'sex', 'native.country']\n",
        "for feature in categorical:\n",
        "        le = preprocessing.LabelEncoder()\n",
        "        X[feature] = le.fit_transform(X[feature])\n",
        "\n",
        "scaler = StandardScaler()\n",
        "\n",
        "X = pd.DataFrame(scaler.fit_transform(X), columns = X.columns)\n",
        "X.head()"
      ],
      "execution_count": null,
      "outputs": [
        {
          "output_type": "execute_result",
          "data": {
            "text/html": [
              "<div>\n",
              "<style scoped>\n",
              "    .dataframe tbody tr th:only-of-type {\n",
              "        vertical-align: middle;\n",
              "    }\n",
              "\n",
              "    .dataframe tbody tr th {\n",
              "        vertical-align: top;\n",
              "    }\n",
              "\n",
              "    .dataframe thead th {\n",
              "        text-align: right;\n",
              "    }\n",
              "</style>\n",
              "<table border=\"1\" class=\"dataframe\">\n",
              "  <thead>\n",
              "    <tr style=\"text-align: right;\">\n",
              "      <th></th>\n",
              "      <th>age</th>\n",
              "      <th>workclass</th>\n",
              "      <th>fnlwgt</th>\n",
              "      <th>education</th>\n",
              "      <th>education.num</th>\n",
              "      <th>marital.status</th>\n",
              "      <th>occupation</th>\n",
              "      <th>relationship</th>\n",
              "      <th>race</th>\n",
              "      <th>sex</th>\n",
              "      <th>capital.gain</th>\n",
              "      <th>capital.loss</th>\n",
              "      <th>hours.per.week</th>\n",
              "      <th>native.country</th>\n",
              "    </tr>\n",
              "  </thead>\n",
              "  <tbody>\n",
              "    <tr>\n",
              "      <th>0</th>\n",
              "      <td>3.316630</td>\n",
              "      <td>-0.208955</td>\n",
              "      <td>-0.538790</td>\n",
              "      <td>0.174763</td>\n",
              "      <td>-0.439738</td>\n",
              "      <td>2.282969</td>\n",
              "      <td>-0.734545</td>\n",
              "      <td>-0.261249</td>\n",
              "      <td>0.385048</td>\n",
              "      <td>-1.443405</td>\n",
              "      <td>-0.147445</td>\n",
              "      <td>10.555814</td>\n",
              "      <td>-1.914161</td>\n",
              "      <td>0.264924</td>\n",
              "    </tr>\n",
              "    <tr>\n",
              "      <th>1</th>\n",
              "      <td>1.184831</td>\n",
              "      <td>-0.208955</td>\n",
              "      <td>-0.467906</td>\n",
              "      <td>-1.399120</td>\n",
              "      <td>-2.400559</td>\n",
              "      <td>-1.722396</td>\n",
              "      <td>0.009964</td>\n",
              "      <td>1.612215</td>\n",
              "      <td>0.385048</td>\n",
              "      <td>-1.443405</td>\n",
              "      <td>-0.147445</td>\n",
              "      <td>9.427915</td>\n",
              "      <td>-0.077734</td>\n",
              "      <td>0.264924</td>\n",
              "    </tr>\n",
              "    <tr>\n",
              "      <th>2</th>\n",
              "      <td>0.195067</td>\n",
              "      <td>-0.208955</td>\n",
              "      <td>0.708645</td>\n",
              "      <td>1.224018</td>\n",
              "      <td>-0.047574</td>\n",
              "      <td>1.615408</td>\n",
              "      <td>0.754473</td>\n",
              "      <td>0.987727</td>\n",
              "      <td>0.385048</td>\n",
              "      <td>-1.443405</td>\n",
              "      <td>-0.147445</td>\n",
              "      <td>9.427915</td>\n",
              "      <td>-0.077734</td>\n",
              "      <td>0.264924</td>\n",
              "    </tr>\n",
              "    <tr>\n",
              "      <th>3</th>\n",
              "      <td>-0.337883</td>\n",
              "      <td>-0.208955</td>\n",
              "      <td>0.256222</td>\n",
              "      <td>0.174763</td>\n",
              "      <td>-0.439738</td>\n",
              "      <td>-1.722396</td>\n",
              "      <td>0.258134</td>\n",
              "      <td>1.612215</td>\n",
              "      <td>0.385048</td>\n",
              "      <td>-1.443405</td>\n",
              "      <td>-0.147445</td>\n",
              "      <td>9.106365</td>\n",
              "      <td>0.339636</td>\n",
              "      <td>0.264924</td>\n",
              "    </tr>\n",
              "    <tr>\n",
              "      <th>4</th>\n",
              "      <td>-0.033340</td>\n",
              "      <td>-0.208955</td>\n",
              "      <td>-0.370964</td>\n",
              "      <td>-2.710688</td>\n",
              "      <td>-1.616231</td>\n",
              "      <td>1.615408</td>\n",
              "      <td>-1.479055</td>\n",
              "      <td>1.612215</td>\n",
              "      <td>0.385048</td>\n",
              "      <td>0.692806</td>\n",
              "      <td>-0.147445</td>\n",
              "      <td>9.106365</td>\n",
              "      <td>-0.077734</td>\n",
              "      <td>0.264924</td>\n",
              "    </tr>\n",
              "  </tbody>\n",
              "</table>\n",
              "</div>"
            ],
            "text/plain": [
              "        age  workclass    fnlwgt  ...  capital.loss  hours.per.week  native.country\n",
              "0  3.316630  -0.208955 -0.538790  ...     10.555814       -1.914161        0.264924\n",
              "1  1.184831  -0.208955 -0.467906  ...      9.427915       -0.077734        0.264924\n",
              "2  0.195067  -0.208955  0.708645  ...      9.427915       -0.077734        0.264924\n",
              "3 -0.337883  -0.208955  0.256222  ...      9.106365        0.339636        0.264924\n",
              "4 -0.033340  -0.208955 -0.370964  ...      9.106365       -0.077734        0.264924\n",
              "\n",
              "[5 rows x 14 columns]"
            ]
          },
          "metadata": {
            "tags": []
          },
          "execution_count": 83
        }
      ]
    },
    {
      "cell_type": "markdown",
      "metadata": {
        "id": "JjgEKjYS2a9E"
      },
      "source": [
        "### SVC with a linear kernel"
      ]
    },
    {
      "cell_type": "code",
      "metadata": {
        "id": "7FM9YcmH2ahF",
        "outputId": "fac148c3-b1b4-4469-e42c-2bd5c547aabf",
        "colab": {
          "base_uri": "https://localhost:8080/",
          "height": 286
        }
      },
      "source": [
        "# Create an SVM model with linear kernel\n",
        "model_linear = SVC(kernel='linear', C=0.1, gamma='auto')\n",
        "model_linear = SVC_train(model_linear, X, y)\n",
        "\n",
        "print(\"Bias:\", model_linear.intercept_)\n",
        "print(\"Weights:\", model_linear.coef_[0])"
      ],
      "execution_count": null,
      "outputs": [
        {
          "output_type": "stream",
          "text": [
            "Cross-validation accuracies:\n",
            "1 fold: 0.814\n",
            "2 fold: 0.814\n",
            "3 fold: 0.803\n",
            "4 fold: 0.810\n",
            "5 fold: 0.811\n",
            "CV mean μ = 0.810 with CV standard deviation σ = 0.39\n",
            "\n",
            "Train accuracy: 0.811\n",
            "Dev accuracy : 0.812\n",
            "\n",
            "Bias: [-0.95951309]\n",
            "Weights: [ 1.74751693e-01 -4.91135060e-02  2.35391107e-02  6.65519527e-03\n",
            "  4.45404724e-01 -1.43241982e-01 -7.29207853e-03 -1.29584303e-01\n",
            "  2.74692464e-02  1.81484682e-01  1.71658238e+00  2.32996170e-01\n",
            "  1.43793489e-01 -1.96432215e-04]\n"
          ],
          "name": "stdout"
        }
      ]
    },
    {
      "cell_type": "markdown",
      "metadata": {
        "id": "WFcuApiA1U5N"
      },
      "source": [
        "### SVC with an RBF kernel"
      ]
    },
    {
      "cell_type": "code",
      "metadata": {
        "id": "m9XYYHpYX4_p",
        "outputId": "866f404e-0a20-4685-96dc-62cc87265dcd",
        "colab": {
          "base_uri": "https://localhost:8080/",
          "height": 202
        }
      },
      "source": [
        "# Create an SVM model with RBF kernel\n",
        "model_rbf = SVC(kernel='rbf', C=1, gamma='auto')\n",
        "model_rbf = SVC_train(model_rbf, X, y)"
      ],
      "execution_count": null,
      "outputs": [
        {
          "output_type": "stream",
          "text": [
            "Cross-validation accuracies:\n",
            "1 fold: 0.843\n",
            "2 fold: 0.841\n",
            "3 fold: 0.845\n",
            "4 fold: 0.840\n",
            "5 fold: 0.844\n",
            "CV mean μ = 0.843 with CV standard deviation σ = 0.20\n",
            "\n",
            "Train accuracy: 0.853\n",
            "Dev accuracy : 0.845\n",
            "\n"
          ],
          "name": "stdout"
        }
      ]
    },
    {
      "cell_type": "markdown",
      "metadata": {
        "id": "0LAAPcKn1qa7"
      },
      "source": [
        "### SVC with a polynomial kernel"
      ]
    },
    {
      "cell_type": "code",
      "metadata": {
        "id": "MVmtiwAV1jPK",
        "outputId": "188370db-a18c-4af6-d67b-d67eb52ddcac",
        "colab": {
          "base_uri": "https://localhost:8080/",
          "height": 202
        }
      },
      "source": [
        "# Create an SVM model with polynomial kernel\n",
        "model_poly = SVC(kernel='poly', C=0.1, degree=3, gamma='auto')\n",
        "model_poly = SVC_train(model_poly, X, y)"
      ],
      "execution_count": null,
      "outputs": [
        {
          "output_type": "stream",
          "text": [
            "Cross-validation accuracies:\n",
            "1 fold: 0.815\n",
            "2 fold: 0.806\n",
            "3 fold: 0.807\n",
            "4 fold: 0.805\n",
            "5 fold: 0.810\n",
            "CV mean μ = 0.808 with CV standard deviation σ = 0.38\n",
            "\n",
            "Train accuracy: 0.815\n",
            "Dev accuracy : 0.812\n",
            "\n"
          ],
          "name": "stdout"
        }
      ]
    },
    {
      "cell_type": "markdown",
      "metadata": {
        "id": "cnUBzkNo3m_Q"
      },
      "source": [
        "### Logistic Regression model "
      ]
    },
    {
      "cell_type": "code",
      "metadata": {
        "id": "g7DO6A5b1i93",
        "outputId": "b8df2279-4f56-48b6-e812-0996d489793f",
        "colab": {
          "base_uri": "https://localhost:8080/",
          "height": 34
        }
      },
      "source": [
        "from sklearn.linear_model import LogisticRegression\n",
        "from sklearn.metrics import accuracy_score\n",
        "\n",
        "# Split the data\n",
        "X_train, X_dev, y_train, y_dev = train_test_split(X, y, test_size=0.3, random_state=0)\n",
        "\n",
        "logreg = LogisticRegression()\n",
        "logreg.fit(X_train, y_train)\n",
        "y_pred = logreg.predict(X_dev)\n",
        "\n",
        "print('Logistic Regression accuracy score with all the features: {}'.format(accuracy_score(y_dev, y_pred)))"
      ],
      "execution_count": null,
      "outputs": [
        {
          "output_type": "stream",
          "text": [
            "Logistic Regression accuracy score with all the features: 0.8216377500276274\n"
          ],
          "name": "stdout"
        }
      ]
    },
    {
      "cell_type": "markdown",
      "metadata": {
        "id": "5680DCYVD2Ba"
      },
      "source": [
        "### Confusion matrix and its derivations"
      ]
    },
    {
      "cell_type": "code",
      "metadata": {
        "id": "Iqsqv7K1D3kn",
        "outputId": "f5e65be6-2741-46a1-f1ea-6d2b9e7cf6bb",
        "colab": {
          "base_uri": "https://localhost:8080/",
          "height": 1000
        }
      },
      "source": [
        "from sklearn.metrics import confusion_matrix\n",
        "\n",
        "def display_cm(X, y, model, model_name):\n",
        "    # Obtain predictions\n",
        "    y_pred = model.predict(X)\n",
        "    \n",
        "    # Get a confusion matrix\n",
        "    C = confusion_matrix(y, y_pred)\n",
        "    \n",
        "    # Compute metrics\n",
        "    precision = C[1,1] / (C[1,1] + C[0,1])\n",
        "    recall = C[1,1] / (C[1,1] + C[1,0])\n",
        "    acc = (C[1,1] + C[0,0]) / (C[1,1] + C[0,0] + C[0,1] + C[1,0])\n",
        "    F1_score = 2 * precision * recall / (precision + recall)\n",
        "    \n",
        "    print(f\"{model_name}:\")\n",
        "    print(\"Сonfusion matrix:\\n\", C)\n",
        "    print()\n",
        "    print(\"TP = \", C[1,1])\n",
        "    print(\"FP = \", C[0,1])    \n",
        "    print(\"TN = \", C[0,0])\n",
        "    print(\"FN = \", C[1,0])    \n",
        "    print()\n",
        "    print(\"Precision: {:.3f}\".format(precision))\n",
        "    print(\"Recall: {:.3f}\".format(recall))\n",
        "    print(\"Accuracy: {:.3f}\".format(acc))\n",
        "    print(\"F1 score: {:.3f}\".format(F1_score))\n",
        "    print()\n",
        "\n",
        "models = [model_linear, model_rbf, model_poly, logreg]\n",
        "names = ['Linear kernel', 'RBF kernel', 'Polynomial kernel', 'Logistic Regression']\n",
        "\n",
        "for i in range(4):\n",
        "    print(\"----------------------------------------\")    \n",
        "    display_cm(X_train, y_train, models[i], names[i])"
      ],
      "execution_count": null,
      "outputs": [
        {
          "output_type": "stream",
          "text": [
            "----------------------------------------\n",
            "Linear kernel:\n",
            "Сonfusion matrix:\n",
            " [[15448   445]\n",
            " [ 3548  1672]]\n",
            "\n",
            "TP =  1672\n",
            "FP =  445\n",
            "TN =  15448\n",
            "FN =  3548\n",
            "\n",
            "Precision: 0.790\n",
            "Recall: 0.320\n",
            "Accuracy: 0.811\n",
            "F1 score: 0.456\n",
            "\n",
            "----------------------------------------\n",
            "RBF kernel:\n",
            "Сonfusion matrix:\n",
            " [[15018   875]\n",
            " [ 2231  2989]]\n",
            "\n",
            "TP =  2989\n",
            "FP =  875\n",
            "TN =  15018\n",
            "FN =  2231\n",
            "\n",
            "Precision: 0.774\n",
            "Recall: 0.573\n",
            "Accuracy: 0.853\n",
            "F1 score: 0.658\n",
            "\n",
            "----------------------------------------\n",
            "Polynomial kernel:\n",
            "Сonfusion matrix:\n",
            " [[15564   329]\n",
            " [ 3572  1648]]\n",
            "\n",
            "TP =  1648\n",
            "FP =  329\n",
            "TN =  15564\n",
            "FN =  3572\n",
            "\n",
            "Precision: 0.834\n",
            "Recall: 0.316\n",
            "Accuracy: 0.815\n",
            "F1 score: 0.458\n",
            "\n",
            "----------------------------------------\n",
            "Logistic Regression:\n",
            "Сonfusion matrix:\n",
            " [[14922   971]\n",
            " [ 2830  2390]]\n",
            "\n",
            "TP =  2390\n",
            "FP =  971\n",
            "TN =  14922\n",
            "FN =  2830\n",
            "\n",
            "Precision: 0.711\n",
            "Recall: 0.458\n",
            "Accuracy: 0.820\n",
            "F1 score: 0.557\n",
            "\n"
          ],
          "name": "stdout"
        }
      ]
    },
    {
      "cell_type": "code",
      "metadata": {
        "id": "7nysKo5v0kNI"
      },
      "source": [
        ""
      ],
      "execution_count": null,
      "outputs": []
    }
  ]
}